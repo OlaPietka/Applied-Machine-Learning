{
 "cells": [
  {
   "cell_type": "markdown",
   "id": "071792d0",
   "metadata": {},
   "source": [
    "# Description\n",
    "\n",
    "Using CIFAR-10 dataset of 32x32 images in 10 categories, I will:\n",
    "  * For each category, compute the mean image and the first 20 principal components. Plot the error resulting from representing the images of each category using the first 20 principal components against the category.\n",
    "  * Compute the distances between mean images for each pair of classes. Use **principal coordinate analysis** to make a 2D map of the means of each categories.\n",
    "  * Use principal coordinate analysis to make a 2D map of the classes and compare this map to the previous map\n",
    "  \n",
    "---"
   ]
  },
  {
   "cell_type": "markdown",
   "id": "2fe70ff3",
   "metadata": {},
   "source": [
    "# Imports"
   ]
  },
  {
   "cell_type": "code",
   "execution_count": 1,
   "id": "7e594ad9",
   "metadata": {},
   "outputs": [],
   "source": [
    "%matplotlib inline\n",
    "\n",
    "import matplotlib.pyplot as plt\n",
    "import numpy as np\n",
    "import seaborn as sns\n",
    "import pandas as pd\n",
    "import time\n",
    "import os\n",
    "from sklearn.decomposition import TruncatedSVD"
   ]
  },
  {
   "cell_type": "markdown",
   "id": "bc157259",
   "metadata": {},
   "source": [
    "# Data\n",
    "\n",
    "CIFAR-10 is a dataset of 32x32 images in 10 categories, collected by Alex Krizhevsky, Vinod Nair, and Geoffrey Hinton. It is often used to evaluate machine learning algorithms. You can download this dataset from https://www.cs.toronto.edu/~kriz/cifar.html.\n",
    "\n",
    "* **Input/Output**: This data has a set of 32 pixel rows, 32 pixel columns, and 3 color channels. Therefore, each single image, is vectorized, will consist of $32\\times32\\times3$ elements (i.e., each image has 3072 dimensions). There are a total of 60000 samples labelled from 10 class. The data set is balanced with each class having exactly 6000 samples.\n",
    "* **Missing Data**: There is no missing data.\n",
    "* **Final Goal**: Understand the data using multi-dimensional scaling methods."
   ]
  },
  {
   "cell_type": "code",
   "execution_count": 2,
   "id": "ff1a4232",
   "metadata": {},
   "outputs": [
    {
     "name": "stdout",
     "output_type": "stream",
     "text": [
      "Downloading https://www.cs.toronto.edu/~kriz/cifar-10-python.tar.gz to Data/cifar10\\cifar-10-python.tar.gz\n"
     ]
    },
    {
     "data": {
      "application/vnd.jupyter.widget-view+json": {
       "model_id": "1c913392c748421189d32559cd099fa9",
       "version_major": 2,
       "version_minor": 0
      },
      "text/plain": [
       "HBox(children=(HTML(value=''), FloatProgress(value=1.0, bar_style='info', layout=Layout(width='20px'), max=1.0…"
      ]
     },
     "metadata": {},
     "output_type": "display_data"
    },
    {
     "name": "stdout",
     "output_type": "stream",
     "text": [
      "Extracting Data/cifar10\\cifar-10-python.tar.gz to Data/cifar10\n",
      "Files already downloaded and verified\n"
     ]
    }
   ],
   "source": [
    "import torchvision\n",
    "import shutil\n",
    "data_train = torchvision.datasets.CIFAR10('Data/cifar10', train=True, transform=None, target_transform=None, download=True)\n",
    "data_eval = torchvision.datasets.CIFAR10('Data/cifar10', train=False, transform=None, target_transform=None, download=True)\n",
    "shutil.rmtree('Data/cifar10/')\n",
    "train_images_raw = data_train.data\n",
    "train_labels = np.array(data_train.targets)\n",
    "eval_images_raw = data_eval.data\n",
    "eval_labels = np.array(data_eval.targets)\n",
    "np.savez('Data/cifar10.npz', train_images_raw=train_images_raw, train_labels=train_labels, \n",
    "         eval_images_raw=eval_images_raw, eval_labels=eval_labels)"
   ]
  },
  {
   "cell_type": "code",
   "execution_count": 3,
   "id": "4a138b0d",
   "metadata": {},
   "outputs": [],
   "source": [
    "class_to_idx = {'airplane': 0,\n",
    "                'automobile': 1,\n",
    "                'bird': 2,\n",
    "                'cat': 3,\n",
    "                'deer': 4,\n",
    "                'dog': 5,\n",
    "                'frog': 6,\n",
    "                'horse': 7,\n",
    "                'ship': 8,\n",
    "                'truck': 9}"
   ]
  },
  {
   "cell_type": "code",
   "execution_count": 4,
   "id": "009b83a5",
   "metadata": {},
   "outputs": [
    {
     "data": {
      "text/plain": [
       "((60000, 32, 32, 3), (60000,))"
      ]
     },
     "execution_count": 4,
     "metadata": {},
     "output_type": "execute_result"
    }
   ],
   "source": [
    "images_raw = np.concatenate([train_images_raw, eval_images_raw], axis=0)\n",
    "labels = np.concatenate([train_labels, eval_labels], axis=0)\n",
    "images_raw.shape, labels.shape"
   ]
  },
  {
   "cell_type": "markdown",
   "id": "0e7a773b",
   "metadata": {},
   "source": [
    "---\n",
    "# Principal Component Analysis\n",
    "0. Let's say we have Data Matrix $X$ with $N$ rows (i.e., data points) and $d$ columns (i.e., features).\n",
    "$$X = [\\cdots]_{N \\times d}$$\n",
    "1. Let's perform SVD on the $X$.\n",
    "$$X=U_x S_x V_x^T$$\n",
    "Let's assume $N>d$ (We have 6000 data points per class, which is more than the 3072 dimenstions).\n",
    "\n",
    "By the way SVD works, we should have\n",
    "$$U_x = [\\cdots]_{N \\times d}$$\n",
    "$$S_x = [\\cdots]_{d \\times d}$$\n",
    "$$V_x = [\\cdots]_{d \\times d}$$\n",
    "and\n",
    "$$U_x^T U_x = I_{d\\times d}$$\n",
    "$$V_x^T V_x = I_{d\\times d}$$\n",
    "\n",
    "2. We need the following decomposition for the covariance matrix $\\Sigma$:\n",
    "$$\\Sigma \\mathcal{U} = \\mathcal{U} \\Lambda$$\n",
    "3. We assume that X has mean zero (i.e., we already subtracted the feature averages). If $X$ has $N$ rows (i.e., data items), we have\n",
    "$$\\Sigma = \\frac{1}{N} X^TX$$\n",
    "4. Let's find $\\Sigma$ in terms of $U_x$, $S_x$, and $V_x$\n",
    "$$\\Sigma = \\frac{1}{N} X^TX = \\frac{1}{N} V_x S_x U_x^T U_x S_x V_x^T = V_x \\frac{S_x^2}{N} V_x^T$$\n",
    "$$\\Rightarrow \\Sigma V_x = V_x \\frac{S_x^2}{N}$$\n",
    "5. By comparison, we have\n",
    "$$\\mathcal{U} = V_x$$\n",
    "$$\\Lambda = \\frac{S_x^2}{N}$$"
   ]
  },
  {
   "cell_type": "markdown",
   "id": "9e0f2a22",
   "metadata": {},
   "source": [
    "### Considering the above:\n",
    "1. **There is no need to compute the covariance matrix $\\Sigma$** and then find its diagonalization; I can easily perform SVD on the data matrix $X$, and get what I need!\n",
    "2. In fact, I do not even need the matrices $V_x$ and $U_x$ for computing the mean squared error; I can infer the mean squared error using only the $S_x$ matrix. "
   ]
  },
  {
   "cell_type": "markdown",
   "id": "2513ec3a",
   "metadata": {},
   "source": [
    "## Mean squared error\n",
    "\n",
    "Function `pca_mse` takes two arguments as input\n",
    "\n",
    "1. `data_raw`: a numpy array with the shape $(N, \\cdots)$, where $N$ is the number of samples, and there may be many excess dimensions denoted by $\\cdots$. I will have to reshape this input `data_raw` matrix to obtain a shape of $(N, d)$, where $d$ is the vectorized data's dimension. \n",
    "2. `num_components`: This is the number of PCA components that we want to retain. \n",
    "\n",
    "and returns the variable `mse` which is the mean squared error of the PCA projection into the designated number of principal components."
   ]
  },
  {
   "cell_type": "code",
   "execution_count": 5,
   "id": "011c3a31",
   "metadata": {},
   "outputs": [],
   "source": [
    "def pca_mse(data_raw, num_components=20):\n",
    "    # Get shape\n",
    "    N = data_raw.shape[0]\n",
    "   \n",
    "    if len(data_raw.shape) > 2:\n",
    "         # Reshape\n",
    "        d = (np.prod(data_raw.shape) / data_raw.shape[0]).astype('int')\n",
    "        data = data_raw.reshape(N, d)\n",
    "    else:\n",
    "        d = data_raw.shape[1]\n",
    "        data = data_raw\n",
    "        \n",
    "    # Zero mean\n",
    "    data_zm = data - np.mean(data, axis=0)\n",
    "    \n",
    "    # Apply SVD\n",
    "    svd = np.linalg.svd(data_zm, compute_uv=False, full_matrices=True)\n",
    "    \n",
    "    # Get lambda\n",
    "    lam = svd**2.0/N\n",
    "    \n",
    "    # Compute MSE\n",
    "    mse = np.sum(lam[num_components:])\n",
    "    \n",
    "    return np.float64(mse)"
   ]
  },
  {
   "cell_type": "markdown",
   "id": "8024a291",
   "metadata": {},
   "source": [
    "## Compute"
   ]
  },
  {
   "cell_type": "code",
   "execution_count": 6,
   "id": "999c81bc",
   "metadata": {},
   "outputs": [
    {
     "name": "stdout",
     "output_type": "stream",
     "text": [
      "Processing Class airplane (The SVD operation took 14.824 seconds)\n",
      "Processing Class automobile (The SVD operation took 15.120 seconds)\n",
      "Processing Class bird (The SVD operation took 16.135 seconds)\n",
      "Processing Class cat (The SVD operation took 13.925 seconds)\n",
      "Processing Class deer (The SVD operation took 14.664 seconds)\n",
      "Processing Class dog (The SVD operation took 13.862 seconds)\n",
      "Processing Class frog (The SVD operation took 13.952 seconds)\n",
      "Processing Class horse (The SVD operation took 13.717 seconds)\n",
      "Processing Class ship (The SVD operation took 14.212 seconds)\n",
      "Processing Class truck (The SVD operation took 14.007 seconds)\n"
     ]
    }
   ],
   "source": [
    "class_names = []\n",
    "class_mses = []\n",
    "for cls_name, cls_label in class_to_idx.items():\n",
    "    data_raw = images_raw[labels == cls_label,:,:,:]\n",
    "    start_time = time.time()\n",
    "    print(f'Processing Class {cls_name}', end='')\n",
    "    cls_mse = pca_mse(data_raw, num_components=20)\n",
    "    print(f' (The SVD operation took %.3f seconds)' % (time.time()-start_time))\n",
    "    class_names.append(cls_name)\n",
    "    class_mses.append(cls_mse)"
   ]
  },
  {
   "cell_type": "markdown",
   "id": "a800a521",
   "metadata": {},
   "source": [
    "## Vizualise"
   ]
  },
  {
   "cell_type": "code",
   "execution_count": 7,
   "id": "9abd386c",
   "metadata": {},
   "outputs": [
    {
     "name": "stdout",
     "output_type": "stream",
     "text": [
      "\n"
     ]
    },
    {
     "name": "stderr",
     "output_type": "stream",
     "text": [
      "c:\\users\\wiewi\\appdata\\local\\programs\\python\\python37\\lib\\site-packages\\seaborn\\_decorators.py:43: FutureWarning: Pass the following variables as keyword args: x, y. From version 0.12, the only valid positional argument will be `data`, and passing other arguments without an explicit keyword will result in an error or misinterpretation.\n",
      "  FutureWarning\n"
     ]
    },
    {
     "data": {
      "image/png": "[encoded data removed]",
      "text/plain": [
       "<Figure size 1080x480 with 1 Axes>"
      ]
     },
     "metadata": {
      "needs_background": "light"
     },
     "output_type": "display_data"
    }
   ],
   "source": [
    "fig, ax = plt.subplots(figsize=(9,4.), dpi=120)\n",
    "sns.barplot(class_names, class_mses, ax=ax)\n",
    "ax.set_title('The Mean Squared Error of Representing Each Class by the Principal Components')\n",
    "ax.set_xlabel('Class')\n",
    "_ = ax.set_ylabel('Mean Squared Error')"
   ]
  },
  {
   "cell_type": "markdown",
   "id": "c4003714",
   "metadata": {},
   "source": [
    "---\n",
    "# Principal Coordinate Analysis"
   ]
  },
  {
   "cell_type": "code",
   "execution_count": 8,
   "id": "4801f566",
   "metadata": {},
   "outputs": [],
   "source": [
    "class_mean_list = []\n",
    "for cls_label in sorted(class_to_idx.values()):\n",
    "    data_raw = images_raw[labels == cls_label,:,:,:]\n",
    "    class_mean = np.mean(data_raw, axis=0).reshape(1,-1)\n",
    "    class_mean_list.append(class_mean)\n",
    "class_means = np.concatenate(class_mean_list, axis=0)"
   ]
  },
  {
   "cell_type": "markdown",
   "id": "216eb711",
   "metadata": {},
   "source": [
    "Function `mean_image_squared_distances` takes the matrix `class_means` as an input and return the `SquaredDistances` matrix as output.\n",
    "\n",
    "`class_means` is a numpy array like a traditional data matrix; it has a shape of $(N,d)$ where there are $N$ individual data-points where each is stored in a single $d$ dimensional row.\n",
    "\n",
    "Function produces the numpy array `SquaredDistances` whose $i^{th}$ row and $j^{th}$ column is the **squared** Euclidean distance between the $i^{th}$ row of `class_means` and $j^{th}$ row of `class_means`. Obviously\n",
    "* The diagonal elements should be zero.\n",
    "* The `SquaredDistances` should be symmetric."
   ]
  },
  {
   "cell_type": "code",
   "execution_count": 9,
   "id": "8f911e48",
   "metadata": {},
   "outputs": [],
   "source": [
    "def distance(point1, point2):\n",
    "    return np.linalg.norm(point1 - point2)**2\n",
    "\n",
    "\n",
    "def mean_image_squared_distances(class_means):\n",
    "    SquaredDistances = [[distance(i, j) for i in class_means] for j in class_means]\n",
    "  \n",
    "    return np.array(SquaredDistances)"
   ]
  },
  {
   "cell_type": "markdown",
   "id": "da06bf6a",
   "metadata": {},
   "source": [
    "I implemented the Principal Coordinate Analysis by writing the function `PCoA` which takes the following arguments:\n",
    "1. `SquaredDistances`: A numpy array which is square in shape, symmetric, and is the square of a distance matrix of some unknown set of points. The output of the `mean_image_squared_distances` function I wrote previously will be fed as this argument.\n",
    "2. `r`: This is the dimension of the visualization space."
   ]
  },
  {
   "cell_type": "code",
   "execution_count": 10,
   "id": "ee292a23",
   "metadata": {},
   "outputs": [],
   "source": [
    "def PCoA(SquaredDistances, r=2):\n",
    "    D = SquaredDistances\n",
    "    N = SquaredDistances.shape[0]\n",
    "    I = np.identity(N)\n",
    "    ones = np.ones((N,N))\n",
    "    \n",
    "    A = I - (1 / N) * ones\n",
    "    W = -0.5 * A @ D @ A.T\n",
    "    \n",
    "    # lam - eigenvalues; U - eigenvectors\n",
    "    lam, U = np.linalg.eigh(W)\n",
    "    \n",
    "    # Sort in descending\n",
    "    lam = lam[::-1]\n",
    "    U = np.fliplr(U)\n",
    "\n",
    "    Sr = np.diag(np.sqrt(lam[:r]))\n",
    "    Ur = U[:,:r]\n",
    "    \n",
    "    Y = Ur @ Sr\n",
    "    \n",
    "    return Y"
   ]
  },
  {
   "cell_type": "markdown",
   "id": "376716ca",
   "metadata": {},
   "source": [
    "## Compute"
   ]
  },
  {
   "cell_type": "code",
   "execution_count": 11,
   "id": "a4792bdf",
   "metadata": {},
   "outputs": [],
   "source": [
    "SquaredDistances = mean_image_squared_distances(class_means)\n",
    "VT = PCoA(SquaredDistances, r=2)"
   ]
  },
  {
   "cell_type": "markdown",
   "id": "b2d3ac53",
   "metadata": {},
   "source": [
    "## Vizualise"
   ]
  },
  {
   "cell_type": "code",
   "execution_count": 12,
   "id": "4045cd22",
   "metadata": {},
   "outputs": [
    {
     "data": {
      "image/png": "[encoded data removed]",
      "text/plain": [
       "<Figure size 1080x720 with 1 Axes>"
      ]
     },
     "metadata": {
      "needs_background": "light"
     },
     "output_type": "display_data"
    }
   ],
   "source": [
    "class_names_list = sorted(list(class_to_idx.keys()))\n",
    "fig, ax = plt.subplots(figsize=(9,6.), dpi=120)\n",
    "x_components = VT[:,0]\n",
    "y_components = VT[:,1]\n",
    "sns.regplot(x=x_components, y=y_components, fit_reg=False, marker=\"*\", color=\"Blue\", ax=ax)\n",
    "for class_idx in range(VT.shape[0]):\n",
    "    num_letters = len(class_names_list[class_idx])\n",
    "    ax.text(x_components[class_idx]-num_letters*15, y_components[class_idx]+25, \n",
    "            class_names_list[class_idx].capitalize(), \n",
    "            horizontalalignment='left', size='medium', color='black', weight='semibold')\n",
    "ax.set_xlabel('Reconstructed Dimension 1')\n",
    "ax.set_ylabel('Reconstructed Dimension 2')\n",
    "_ = ax.set_title('PCoA on Mean CIFAR-10 Images')"
   ]
  },
  {
   "cell_type": "markdown",
   "id": "50082dc8",
   "metadata": {},
   "source": [
    "---\n",
    "# Generalized PCoA with Non-Metric Similarities"
   ]
  },
  {
   "cell_type": "markdown",
   "id": "ca64d1ab",
   "metadata": {},
   "source": [
    "Function `principal_components_precise_svd` returns the principal components of a data matrix and takes the following arguments as input\n",
    "\n",
    "1. `data_raw`: a numpy array with the shape $(N, \\cdots)$, where $N$ is the number of samples, and there may be many excess dimensions denoted by $\\cdots$. I will have to reshape this input `data_raw` matrix to obtain a shape of $(N, d)$, where $d$ is the vectorized data's dimension.\n",
    "2. `num_components`: This is the number of PCA components that we want to retain. \n",
    "\n",
    "and returns the variable `V_x` which is a numpy array with the shape `(d, num_components)`. The columns are the unitay principal components sorted descendingly with respect to the eigenvalues."
   ]
  },
  {
   "cell_type": "code",
   "execution_count": 13,
   "id": "978d1a5b",
   "metadata": {},
   "outputs": [],
   "source": [
    "def principal_components_precise_svd(data_raw, num_components=20):\n",
    "    # Get shape\n",
    "    N = data_raw.shape[0]\n",
    "   \n",
    "    if len(data_raw.shape) > 2:\n",
    "         # Reshape\n",
    "        d = (np.prod(data_raw.shape) / data_raw.shape[0]).astype('int')\n",
    "        data = data_raw.reshape(N, d)\n",
    "    else:\n",
    "        d = data_raw.shape[1]\n",
    "        data = data_raw\n",
    "    \n",
    "    # Zero mean\n",
    "    data_zm = data - np.mean(data, axis=0)\n",
    "    \n",
    "    # Apply SVD\n",
    "    U, S, V_x = np.linalg.svd(data_zm, compute_uv=True)\n",
    "    V_x = V_x.T[:,:num_components]\n",
    "    \n",
    "    sign_unambiguity = np.sign(V_x[np.abs(V_x).argmax(axis=0), np.arange(V_x.shape[1])]).reshape(1,-1)\n",
    "    V_x *= sign_unambiguity\n",
    "    return V_x"
   ]
  },
  {
   "cell_type": "markdown",
   "id": "45404109",
   "metadata": {},
   "source": [
    "The following cell will run `principal_components_precise_svd` function on a single class of data, and provide some running time estimate."
   ]
  },
  {
   "cell_type": "code",
   "execution_count": 14,
   "id": "aa09673c",
   "metadata": {},
   "outputs": [
    {
     "name": "stdout",
     "output_type": "stream",
     "text": [
      "Finding the principal components on a single class took 27.001 seconds.\n"
     ]
    }
   ],
   "source": [
    "first_class_features = images_raw[labels == 0, :, :, :]\n",
    "\n",
    "starting_time = time.time()\n",
    "first_class_pcs = principal_components_precise_svd(first_class_features, num_components=20)\n",
    "end_time = time.time()\n",
    "\n",
    "print('Finding the principal components on a single class took %.3f seconds.'%(end_time-starting_time))"
   ]
  },
  {
   "cell_type": "markdown",
   "id": "6e509462",
   "metadata": {},
   "source": [
    "Although, this performance is extremely hardware-dependent, it's certainly not negligible. Keep in mind that I will have to run this function about 100 times on data of the same size to construct a similarity matrix in later tasks; any speedup may very well be appreciated.\n",
    "\n",
    "Most of the computation time in the previous function was spent on the SVD factorization. Essentially, I found all the singular values and directions, ignored most of them, and only kept the top 20. This can be a very good place to start saving on computation; So lets us an efficient SVD variant (sometimes is referred to as the \"Truncated SVD\" in application). Next I will be a redo of the previous task using this fast factroization."
   ]
  },
  {
   "cell_type": "markdown",
   "id": "ee97684a",
   "metadata": {},
   "source": [
    "## Boost performance"
   ]
  },
  {
   "cell_type": "markdown",
   "id": "3fb4f0d7",
   "metadata": {},
   "source": [
    "Similar to `principal_components_precise_svd`, a function `principal_components` uses `scikit-learn`'s `TruncatedSVD` decomposition instead of the precise `np.linalg.svd` decomposition that was used previously. As before, `principal_components` should return the principal components of a data matrix and take the following arguments as input\n",
    "\n",
    "1. `data_raw`: a numpy array with the shape $(N, \\cdots)$, where $N$ is the number of samples, and there may be many excess dimensions denoted by $\\cdots$. I will have to reshape this input `data_raw` matrix to obtain a shape of $(N, d)$, where $d$ is the vectorized data's dimension. \n",
    "2. `num_components`: This is the number of PCA components that we want to retain.\n",
    "\n",
    "`principal_components` returns the variable `V_x` which is a numpy array with the shape `(d, num_components)`. The columns are the unitay principal components sorted descendingly with respect to the eigenvalues."
   ]
  },
  {
   "cell_type": "code",
   "execution_count": 15,
   "id": "bccd136d",
   "metadata": {},
   "outputs": [],
   "source": [
    "def principal_components(data_raw, num_components=20):\n",
    "    # Get shape\n",
    "    N = data_raw.shape[0]\n",
    "   \n",
    "    if len(data_raw.shape) > 2:\n",
    "         # Reshape\n",
    "        d = (np.prod(data_raw.shape) / data_raw.shape[0]).astype('int')\n",
    "        data = data_raw.reshape(N, d)\n",
    "    else:\n",
    "        d = data_raw.shape[1]\n",
    "        data = data_raw\n",
    "    \n",
    "    # Zero mean\n",
    "    data_zm = data - np.mean(data, axis=0)\n",
    "    \n",
    "    # Create SVD\n",
    "    svd = TruncatedSVD(num_components, algorithm='randomized', n_iter=5, random_state=12345)\n",
    "    \n",
    "    # Fit SVD\n",
    "    svd.fit(data_zm)\n",
    "    \n",
    "    V_x = svd.components_.T\n",
    "    \n",
    "    sign_unambiguity = np.sign(V_x[np.abs(V_x).argmax(axis=0), np.arange(V_x.shape[1])]).reshape(1,-1)\n",
    "    V_x *= sign_unambiguity\n",
    "    return V_x"
   ]
  },
  {
   "cell_type": "code",
   "execution_count": 16,
   "id": "5f86411e",
   "metadata": {},
   "outputs": [
    {
     "name": "stdout",
     "output_type": "stream",
     "text": [
      "Finding the principal components on a single class took 0.607 seconds.\n"
     ]
    }
   ],
   "source": [
    "first_class_features = images_raw[labels == 0, :, :, :]\n",
    "\n",
    "starting_time = time.time()\n",
    "first_class_pcs = principal_components(first_class_features, num_components=20)\n",
    "end_time = time.time()\n",
    "\n",
    "print('Finding the principal components on a single class took %.3f seconds.'%(end_time-starting_time))"
   ]
  },
  {
   "cell_type": "markdown",
   "id": "f6de9fd8",
   "metadata": {},
   "source": [
    "Wow! So much faster."
   ]
  },
  {
   "cell_type": "markdown",
   "id": "17df4ccb",
   "metadata": {},
   "source": [
    "---"
   ]
  },
  {
   "cell_type": "markdown",
   "id": "9349eb34",
   "metadata": {},
   "source": [
    "Write the function `E_A_given_B` that computes the $E[A|B]$ and takes the two matrices `class_A_data` and `class_B_data`. \n",
    "\n",
    "1. `class_A_data` is a numpy arrays with the shape $(N, \\cdots)$, where $N$ is the number of samples, and there may be many excess dimensions denoted by $\\cdots$. I will have to reshape this input matrix to obtain a shape of $(N, d)$, where $d$ is the vectorized data's dimension.\n",
    "2. `class_B_data` has the same data structure as `class_A_data`.\n",
    "\n",
    "To compute $E[A|B]$:\n",
    "1. First, reshaping\n",
    "2. Subtract Class A's mean from its data\n",
    "3. Use the `principal_components` function I wrote before to extract the 20 principal components of `class_B_data`.\n",
    "4. Project Class A's data onto the mentioned principal components and get back to the original space.\n",
    "5. Compute Class A's residuals (i.e., the difference between the original and the projection).\n",
    "5. Find the squared residual sizes **for each sample**, and then return their mean as the `E_A_cond_B` scalar. In other words, square class A's residuals, sum them over each sample (which should reduce the squared residual matrix to only $N$ elements), and then report the mean of them as `E_A_cond_B`."
   ]
  },
  {
   "cell_type": "code",
   "execution_count": 17,
   "id": "b1511437",
   "metadata": {},
   "outputs": [],
   "source": [
    "def reshape(data):\n",
    "    # Get shape\n",
    "    N = data.shape[0]\n",
    "    \n",
    "    if len(data.shape) == 2:\n",
    "        return data\n",
    "    \n",
    "    d = (np.prod(data.shape) / data.shape[0]).astype('int')\n",
    "    return data.reshape(N, d)\n",
    "\n",
    "def zero_mean(data):\n",
    "    return data - np.mean(data, axis=0)"
   ]
  },
  {
   "cell_type": "code",
   "execution_count": 18,
   "id": "0517faa3",
   "metadata": {},
   "outputs": [],
   "source": [
    "def E_A_given_B(class_A_data, class_B_data):\n",
    "    class_A_data, class_B_data = reshape(class_A_data), reshape(class_B_data)\n",
    "    # your code here\n",
    "    \n",
    "    class_A_data_zm = zero_mean(class_A_data)\n",
    "    class_B_principal_components = principal_components(class_B_data, 20)\n",
    "    \n",
    "    projection = class_A_data_zm @ class_B_principal_components @ class_B_principal_components.T\n",
    "    \n",
    "    class_A_residuals = class_A_data_zm - projection\n",
    "    \n",
    "    E_A_cond_B = np.mean(np.sum(class_A_residuals**2, axis=1))\n",
    "    \n",
    "    return E_A_cond_B"
   ]
  },
  {
   "cell_type": "code",
   "execution_count": 19,
   "id": "79f17de1",
   "metadata": {},
   "outputs": [
    {
     "name": "stdout",
     "output_type": "stream",
     "text": [
      "Row 0 (This row took 1.805 seconds to finish)\n",
      "Row 1 (This row took 3.479 seconds to finish)\n",
      "Row 2 (This row took 5.250 seconds to finish)\n",
      "Row 3 (This row took 7.670 seconds to finish)\n",
      "Row 4 (This row took 9.249 seconds to finish)\n",
      "Row 5 (This row took 10.454 seconds to finish)\n",
      "Row 6 (This row took 12.094 seconds to finish)\n",
      "Row 7 (This row took 14.215 seconds to finish)\n",
      "Row 8 (This row took 15.408 seconds to finish)\n",
      "Row 9 (This row took 17.085 seconds to finish)\n"
     ]
    }
   ],
   "source": [
    "num_classes = class_means.shape[0]\n",
    "SimilarityMatrix = np.zeros((num_classes, num_classes))\n",
    "for row in range(num_classes):\n",
    "    print(f'Row {row}', end='')\n",
    "    row_st_time = time.time()\n",
    "    for col in range(row+1):\n",
    "        class_A_data = images_raw[labels == row, :, :, :]\n",
    "        class_B_data = images_raw[labels == col, :, :, :]\n",
    "        E_A_cond_B = E_A_given_B(class_A_data, class_B_data)\n",
    "        E_B_cond_A = E_A_given_B(class_B_data, class_A_data)\n",
    "        SimilarityMatrix[col, row] = (E_A_cond_B + E_B_cond_A)/2.\n",
    "        SimilarityMatrix[row, col] = (E_A_cond_B + E_B_cond_A)/2.\n",
    "    print(f' (This row took %.3f seconds to finish)'%(time.time() - row_st_time))"
   ]
  },
  {
   "cell_type": "markdown",
   "id": "ff83b18a",
   "metadata": {},
   "source": [
    "If I apply any general `SimilarityMatrix` variable to the previously defined `PCoA` function, I may get `NaN` entries due to the fact that they may not generally be a metric distance matrix (i.e., having non-zero diagonal elements and the triangle inequality not alway holding).\n",
    "\n",
    "This issue can be best seen when having a similarity measure that is extremely uneven (i.e., when the small entries are extremely small and the large entries are extremely large). This will make it difficult for the triangle inequality to hold. It is a good idea to ammend the PCoA in a way that can deal with such non-metric similarity measures."
   ]
  },
  {
   "cell_type": "code",
   "execution_count": 20,
   "id": "c5015800",
   "metadata": {},
   "outputs": [
    {
     "name": "stderr",
     "output_type": "stream",
     "text": [
      "c:\\users\\wiewi\\appdata\\local\\programs\\python\\python37\\lib\\site-packages\\ipykernel_launcher.py:17: RuntimeWarning: invalid value encountered in sqrt\n"
     ]
    },
    {
     "data": {
      "text/plain": [
       "array([[-1.19122359e+131, -1.01273169e+131, -6.64858390e+129,\n",
       "        -8.41498165e+128,  2.66572612e+123,              nan,\n",
       "                     nan,              nan,              nan,\n",
       "                     nan],\n",
       "       [-1.89955534e+132, -2.69508986e+131, -2.99388280e+126,\n",
       "        -2.89402196e+125,  2.66572612e+123,              nan,\n",
       "                     nan,              nan,              nan,\n",
       "                     nan],\n",
       "       [-1.22403442e+131, -5.41618003e+130,  1.22455240e+129,\n",
       "         1.03543307e+129,  2.66572612e+123,              nan,\n",
       "                     nan,              nan,              nan,\n",
       "                     nan],\n",
       "       [ 1.13544520e+131,  2.36886946e+130,  1.23040415e+129,\n",
       "        -1.24137369e+129,  2.66572612e+123,              nan,\n",
       "                     nan,              nan,              nan,\n",
       "                     nan],\n",
       "       [-1.29411460e+131, -5.17027543e+130,  2.17747099e+129,\n",
       "         2.70985016e+129,  2.66572612e+123,              nan,\n",
       "                     nan,              nan,              nan,\n",
       "                     nan],\n",
       "       [ 1.16044578e+132,  2.11801847e+131, -8.28870879e+128,\n",
       "         2.11454136e+128,  2.66572612e+123,              nan,\n",
       "                     nan,              nan,              nan,\n",
       "                     nan],\n",
       "       [-1.23537602e+131, -5.69470418e+130, -1.66781093e+129,\n",
       "         6.27233461e+128,  2.66572612e+123,              nan,\n",
       "                     nan,              nan,              nan,\n",
       "                     nan],\n",
       "       [ 1.44463768e+132, -4.45826856e+131,  5.30470459e+128,\n",
       "         1.67460728e+127,  2.66572612e+123,              nan,\n",
       "                     nan,              nan,              nan,\n",
       "                     nan],\n",
       "       [-1.29378744e+131, -5.39706922e+130,  3.97620683e+129,\n",
       "        -2.52086520e+129,  2.66572612e+123,              nan,\n",
       "                     nan,              nan,              nan,\n",
       "                     nan],\n",
       "       [-1.95219037e+131,  7.97900759e+131,  9.15476863e+126,\n",
       "         3.30955790e+126,  2.66572612e+123,              nan,\n",
       "                     nan,              nan,              nan,\n",
       "                     nan]])"
      ]
     },
     "execution_count": 20,
     "metadata": {},
     "output_type": "execute_result"
    }
   ],
   "source": [
    "PCoA(SimilarityMatrix**40, r=10)"
   ]
  },
  {
   "cell_type": "markdown",
   "id": "a97ea0af",
   "metadata": {},
   "source": [
    "Function `Lingoes_PreProcessing` does some pre-processing to the `SimilarityMatrix` to make it have the Euclidean property and the triangles to close.\n",
    "\n",
    "Here is a very brief and to the point description from the r documentation page (https://www.rdocumentation.org/packages/ape/versions/5.2/topics/pcoa).\n",
    "\n",
    "\"In the Lingoes (1971) procedure, a constant c1, equal to twice absolute value of the largest negative eigenvalue of the original principal coordinate analysis, is added to each original squared distance in the distance matrix, except the diagonal values. A newe principal coordinate analysis, performed on the modified distances, has at most (n-2) positive eigenvalues, at least 2 null eigenvalues, and no negative eigenvalue.\"\n",
    "\n",
    "The function `Lingoes_PreProcessing` takes the numpy array `SimilarityMatrix` as input, and returns `ProcessedSimilarityMatrix` based on the following condition:\n",
    "1. If all eigenvalues computed during PCoA are non-negative, then `ProcessedSimilarityMatrix` should be the same as the `SimilarityMatrix`.\n",
    "2. Otherwise, follow the instructions to perform the Lingoes correction on the `SimilarityMatrix` and return `ProcessedSimilarityMatrix`.\n",
    "\n",
    "In other words:\n",
    "  1. Perform the PCoA analysis on `SimilarityMatrix` right up to the point where we find the eigenvalues, and not any further. More precisely, we should only find the eigenvalues of the matrix $\\mathcal{W}$ corresponding to `SimilarityMatrix` in the PCoA analysis.\n",
    "  2. Find the minimum eigenvalue and call it $\\lambda_{\\min}$.\n",
    "  3. If $\\lambda_{\\min}\\geq 0$, then stop and return `SimilarityMatrix` as it was without any change.\n",
    "  4. If $\\lambda_{\\min} < 0$, then add  $2|\\lambda_{\\min}|$ to all the non-diagonal elements of `SimilarityMatrix` and return the resulting matrix."
   ]
  },
  {
   "cell_type": "code",
   "execution_count": 21,
   "id": "9739ab31",
   "metadata": {},
   "outputs": [],
   "source": [
    "def Lingoes_PreProcessing(SimilarityMatrix):\n",
    "    N = SimilarityMatrix.shape[0]\n",
    "    I = np.identity(N)\n",
    "    ones = np.ones((N,N))\n",
    "\n",
    "    A = I - (1 / N) * ones\n",
    "    W = -0.5 * A @ SimilarityMatrix @ A.T\n",
    "\n",
    "    # lam - eigenvalues; U - eigenvectors\n",
    "    lam, U = np.linalg.eigh(W)\n",
    "\n",
    "    lam_min = np.min(lam)\n",
    "\n",
    "    if lam_min >= 0:\n",
    "        return SimilarityMatrix\n",
    "    \n",
    "    ProcessedSimilarityMatrix = SimilarityMatrix + (2 * np.abs(lam_min))\n",
    "    ProcessedSimilarityMatrix[np.diag_indices_from(SimilarityMatrix)] -= (2 * np.abs(lam_min))\n",
    "    \n",
    "    return ProcessedSimilarityMatrix"
   ]
  },
  {
   "cell_type": "code",
   "execution_count": 22,
   "id": "c78a07a3",
   "metadata": {},
   "outputs": [],
   "source": [
    "def PCoA_lingoes(SimilarityMatrix, r=2):\n",
    "    ProcessedSimilarityMatrix = Lingoes_PreProcessing(SimilarityMatrix)\n",
    "    return PCoA(ProcessedSimilarityMatrix, r=r)"
   ]
  },
  {
   "cell_type": "code",
   "execution_count": 23,
   "id": "bb7ef513",
   "metadata": {},
   "outputs": [
    {
     "data": {
      "text/plain": [
       "array([[-119.98786571,  355.24236881],\n",
       "       [-407.7649715 , -194.47481966],\n",
       "       [ 200.74413716,   69.91510988],\n",
       "       [ 228.74930337, -150.11666377],\n",
       "       [  34.48668888,  156.6042217 ],\n",
       "       [ 343.06053853, -112.88238769],\n",
       "       [ 112.75711242,  -44.2970879 ],\n",
       "       [ 147.41580395,   23.49865708],\n",
       "       [-290.00131424,  180.85368172],\n",
       "       [-249.45943287, -284.34308017]])"
      ]
     },
     "execution_count": 23,
     "metadata": {},
     "output_type": "execute_result"
    }
   ],
   "source": [
    "PCoA_lingoes(SimilarityMatrix, r=2)"
   ]
  },
  {
   "cell_type": "code",
   "execution_count": 24,
   "id": "500d852a",
   "metadata": {},
   "outputs": [
    {
     "data": {
      "image/png": "[encoded data removed]",
      "text/plain": [
       "<Figure size 1080x720 with 1 Axes>"
      ]
     },
     "metadata": {
      "needs_background": "light"
     },
     "output_type": "display_data"
    }
   ],
   "source": [
    "class_names_list = sorted(list(class_to_idx.keys()))\n",
    "fig, ax = plt.subplots(figsize=(9,6.), dpi=120)\n",
    "x_components = VT[:,0]\n",
    "y_components = VT[:,1]\n",
    "sns.regplot(x=x_components, y=y_components, fit_reg=False, marker=\"*\", color=\"Blue\", ax=ax)\n",
    "for class_idx in range(VT.shape[0]):\n",
    "    num_letters = len(class_names_list[class_idx])\n",
    "    ax.text(x_components[class_idx]-num_letters*8, y_components[class_idx]+10, \n",
    "            class_names_list[class_idx].capitalize(), \n",
    "            horizontalalignment='left', size='medium', color='black', weight='semibold')\n",
    "ax.set_xlabel('Reconstructed Dimension 1')\n",
    "ax.set_ylabel('Reconstructed Dimension 2')\n",
    "_ = ax.set_title('Generalized PCoA on CIFAR-10 Images')"
   ]
  },
  {
   "cell_type": "code",
   "execution_count": null,
   "id": "d9a354cf",
   "metadata": {},
   "outputs": [],
   "source": []
  }
 ],
 "metadata": {
  "kernelspec": {
   "display_name": "Python 3",
   "language": "python",
   "name": "python3"
  },
  "language_info": {
   "codemirror_mode": {
    "name": "ipython",
    "version": 3
   },
   "file_extension": ".py",
   "mimetype": "text/x-python",
   "name": "python",
   "nbconvert_exporter": "python",
   "pygments_lexer": "ipython3",
   "version": "3.7.9"
  }
 },
 "nbformat": 4,
 "nbformat_minor": 5
}
