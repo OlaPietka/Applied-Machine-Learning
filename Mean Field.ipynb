{
 "cells": [
  {
   "cell_type": "markdown",
   "id": "b68f5ed9",
   "metadata": {},
   "source": [
    "# Description\n",
    "\n",
    "Mean Field Inference for denoising binary images with Boltzmann Machines on MNIST data (http://yann.lecun.com/exdb/mnist/)\n",
    "\n",
    "---"
   ]
  },
  {
   "cell_type": "markdown",
   "id": "e84b678c",
   "metadata": {},
   "source": [
    "# Imports"
   ]
  },
  {
   "cell_type": "code",
   "execution_count": 1,
   "id": "9f8cf2fa",
   "metadata": {},
   "outputs": [],
   "source": [
    "%matplotlib inline\n",
    "\n",
    "import matplotlib.pyplot as plt\n",
    "import numpy as np\n",
    "import os\n",
    "import pandas as pd\n",
    "\n",
    "from scipy.special import expit\n",
    "from ipywidgets import IntProgress"
   ]
  },
  {
   "cell_type": "markdown",
   "id": "2804a238",
   "metadata": {},
   "source": [
    "# Data"
   ]
  },
  {
   "cell_type": "markdown",
   "id": "740ee8fa",
   "metadata": {},
   "source": [
    "## Data loading"
   ]
  },
  {
   "cell_type": "code",
   "execution_count": 2,
   "id": "ea6fd0bc",
   "metadata": {},
   "outputs": [],
   "source": [
    "import torchvision\n",
    "data_train = torchvision.datasets.MNIST('Data/mnist', train=True, transform=None, target_transform=None, download=True)\n",
    "data_eval = torchvision.datasets.MNIST('Data/mnist', train=False, transform=None, target_transform=None, download=True)\n",
    "\n",
    "train_images_raw = data_train.data.numpy()\n",
    "train_labels = data_train.targets.numpy()\n",
    "eval_images_raw = data_eval.data.numpy()\n",
    "eval_labels = data_eval.targets.numpy()\n",
    "\n",
    "np.savez('Data/mnist.npz', train_images_raw=train_images_raw, train_labels=train_labels, \n",
    "         eval_images_raw=eval_images_raw, eval_labels=eval_labels) "
   ]
  },
  {
   "cell_type": "markdown",
   "id": "72c03fb7",
   "metadata": {},
   "source": [
    "## Treshold and noise"
   ]
  },
  {
   "cell_type": "markdown",
   "id": "3aaf0fbd",
   "metadata": {},
   "source": [
    "Function `get_thresholded_and_noised` does image thresholding and flipping pixels. More specifically, this functions exactly applys the following two steps in order:\n",
    "\n",
    "1. **Thresholding**: First, given the input threshold argument, compute a thresholded image array. This array should indicate whether each element of `images_raw` is **greater than or equal to**  the `threshold` argument.\n",
    "2. **Noise Application (i.e., Flipping Pixels)**: After the image was thresholded, use the `flip_flags` input argument and flip the pixels with a corresponding `True` entry in `flip_flags`. \n",
    "3. **Mapping Pixels to -1/+1**: Make sure the output image pixels are mapped to -1 and 1 values.\n",
    "\n",
    "`get_thresholded_and_noised` takes the following arguments:\n",
    "\n",
    "1. `images_raw`: A numpy array\n",
    "2. `threshold`: A scalar value\n",
    "3. `flip_flags`: A numpy array with the same shape as `images_raw` and `np.bool` dtype. This array indicates whether each pixel should be flipped or not.\n",
    "\n",
    "and return the following:\n",
    "\n",
    "* `mapped_noised_image`: A numpy array with the same shape as `images_raw`.  This array's entries should either be -1 or 1."
   ]
  },
  {
   "cell_type": "code",
   "execution_count": 3,
   "id": "8b96cc91",
   "metadata": {},
   "outputs": [],
   "source": [
    "def get_thresholded_and_noised(images_raw, threshold, flip_flags):\n",
    "    thresholded_image = images_raw >= threshold\n",
    "    noise_image = np.logical_xor(thresholded_image, flip_flags)\n",
    "    mapped_noised_image = np.where(noise_image, 1, -1)\n",
    "    \n",
    "    return mapped_noised_image.astype(np.int32)"
   ]
  },
  {
   "cell_type": "markdown",
   "id": "49169ef4",
   "metadata": {},
   "source": [
    "### Apply"
   ]
  },
  {
   "cell_type": "code",
   "execution_count": 4,
   "id": "0a8888b5",
   "metadata": {},
   "outputs": [],
   "source": [
    "noise_flip_prob = 0.04"
   ]
  },
  {
   "cell_type": "code",
   "execution_count": 5,
   "id": "08556d8e",
   "metadata": {},
   "outputs": [],
   "source": [
    "X_true_grayscale = train_images_raw[:10, :, :]\n",
    "\n",
    "np_random = np.random.RandomState(seed=12345)\n",
    "flip_flags = flip_flags = (np_random.uniform(0., 1., size=X_true_grayscale.shape) < noise_flip_prob)\n",
    "initial_pi = np_random.uniform(0, 1, size=X_true_grayscale.shape) # Initial Random Pi values\n",
    "\n",
    "X_true = get_thresholded_and_noised(X_true_grayscale, threshold=128, flip_flags=flip_flags * 0)\n",
    "X_noised = get_thresholded_and_noised(X_true_grayscale, threshold=128, flip_flags=flip_flags)"
   ]
  },
  {
   "cell_type": "markdown",
   "id": "d8494dda",
   "metadata": {},
   "source": [
    "### Vizualise"
   ]
  },
  {
   "cell_type": "code",
   "execution_count": 6,
   "id": "fed1bf25",
   "metadata": {},
   "outputs": [
    {
     "data": {
      "image/png": "[encoded data removed]",
      "text/plain": [
       "<Figure size 720x504 with 3 Axes>"
      ]
     },
     "metadata": {
      "needs_background": "light"
     },
     "output_type": "display_data"
    }
   ],
   "source": [
    "sample_raw_image = X_true_grayscale[0]\n",
    "sample_true_image = X_true[0]\n",
    "sample_noised_image = X_noised[0]\n",
    "\n",
    "fig = plt.figure(figsize=(10, 7))\n",
    "fig.add_subplot(1, 3, 1)\n",
    "plt.title(\"Raw\")\n",
    "plt.imshow(sample_raw_image, cmap='binary')\n",
    "fig.add_subplot(1, 3, 2)\n",
    "plt.title(\"True\")\n",
    "plt.imshow(sample_true_image, cmap='binary')\n",
    "fig.add_subplot(1, 3, 3)\n",
    "plt.title(\"Noised\")\n",
    "plt.imshow(sample_noised_image, cmap='binary')\n",
    "plt.show()"
   ]
  },
  {
   "cell_type": "markdown",
   "id": "5b284732",
   "metadata": {},
   "source": [
    "Funciton named `sigmoid_2x` given a variable $X$ computes the following:\n",
    "\n",
    "$$f(X) := \\frac{\\exp(X)}{\\exp(X) + \\exp(-X)}$$\n",
    "\n",
    "The input argument is a numpy array $X$.\n",
    "\n",
    "**Important Note**: Theoretically, $f$ satisfies the following equations:\n",
    "\n",
    "$$\\lim_{X\\rightarrow +\\infty} f(X) = 1$$\n",
    "$$\\lim_{X\\rightarrow -\\infty} f(X) = 0$$\n",
    "\n",
    "So it must also work correctly even on these extreme edge cases"
   ]
  },
  {
   "cell_type": "code",
   "execution_count": 7,
   "id": "c892eb55",
   "metadata": {},
   "outputs": [],
   "source": [
    "def sigmoid_2x(X):\n",
    "    output = expit(2*X)\n",
    "    \n",
    "    return output"
   ]
  },
  {
   "cell_type": "markdown",
   "id": "28babe1d",
   "metadata": {},
   "source": [
    "# Applying Mean-field Approximation to Boltzman Machine's Variational Inference Problem\n",
    "\n",
    "`boltzman_meanfield` function applies the mean-field approximation to the Boltzman machine. \n",
    "\n",
    "$X_i$ is the observed value of pixel $i$, and $H_i$ is the true value of pixel $i$ (before applying noise). For instance, if we have a $3 \\times 3$ image, the corresponding Boltzman machine looks like this: \n",
    "\n",
    "```\n",
    "       X_1        X_2        X_3\n",
    "      /          /          /\n",
    "     H_1 ------ H_2 ------ H_3\n",
    "      |          |          |\n",
    "      |          |          |\n",
    "      |          |          |\n",
    "      | X_4      | X_5      | X_6\n",
    "      |/         |/         |/ \n",
    "     H_4 ------ H_5 ------ H_6\n",
    "      |          |          |\n",
    "      |          |          |\n",
    "      |          |          |\n",
    "      | X_7      | X_8      | X_9\n",
    "      |/         |/         |/ \n",
    "     H_7 ------ H_8 ------ H_9\n",
    "```     \n",
    "\n",
    "Here, I a adopt a slightly simplified notation and define $\\mathcal{N}(i)$ to be the neighbors of pixel $i$ (the pixels adjacent to pixel $i$). For instance, in the above figure, we have $\\mathcal{N}(1) = \\{2,4\\}$, $\\mathcal{N}(2) = \\{1,3,5\\}$, and $\\mathcal{N}(5) = \\{2,4,6,8\\}$.\n",
    "\n",
    "\n",
    "With this, the process can be summarized as follows:\n",
    "\n",
    "```\n",
    "1. for iteration = 1, 2, 3, ....,\n",
    "  2. Pick a random pixel i.\n",
    "  3. Find pixel i's new parameter as\n",
    "```\n",
    "$$\\pi_i^{\\text{new}} = \\frac{\\exp(\\theta_{ii}^{(2)} X_i + \\sum_{j\\in \\mathcal{N}(i)} \\theta_{ij}^{(1)} (2\\pi_j -1))}{\\exp(\\theta_{ii}^{(2)} X_i + \\sum_{j\\in \\mathcal{N}(i)} \\theta_{ij}^{(1)} (2\\pi_j -1)) + \\exp(-\\theta_{ii}^{(2)} X_i - \\sum_{j\\in \\mathcal{N}(i)} \\theta_{ij}^{(1)} (2\\pi_j -1))} .$$\n",
    "```\n",
    "  4. Replace the existing parameter for pixel i with the new one.\n",
    "```\n",
    "$$\\pi_i \\leftarrow \\pi_i^{\\text{new}}$$\n",
    "\n",
    "Since computational resources are extremely vectorized, I will make the following minor algorithmic modification and implement the following instead:\n",
    "\n",
    "```\n",
    "1. for iteration = 1, 2, 3, ....,\n",
    "  2. for each pixels i:\n",
    "  3. Find pixel i's new parameter, but do not update the original parameter yet.\n",
    "```\n",
    "$$\\pi_i^{\\text{new}} = \\frac{\\exp(\\theta_{ii}^{(2)} X_i + \\sum_{j\\in \\mathcal{N}(i)} \\theta_{ij}^{(1)} (2\\pi_j -1))}{\\exp(\\theta_{ii}^{(2)} X_i + \\sum_{j\\in \\mathcal{N}(i)} \\theta_{ij}^{(1)} (2\\pi_j -1)) + \\exp(-\\theta_{ii}^{(2)} X_i - \\sum_{j\\in \\mathcal{N}(i)} \\theta_{ij}^{(1)} (2\\pi_j -1))} .$$\n",
    "```\n",
    "  4. Once computed all new parameters, I need to update all of them at the same time:\n",
    "```\n",
    "$$\\pi \\leftarrow \\pi^{\\text{new}}$$\n",
    "\n",
    "We assume that the parameters $\\theta_{ii}^{(2)}$ have the same value for all $i$ and denote their common value by scalar `theta_X`. Moreover, we assume that the parameters $\\theta_{ij}^{(1)}$ have the same value for all $i,j$ and denote their common value by scalar `theta_pi`.\n",
    "\n",
    "The `boltzman_meanfield` function takes the following input arguments:\n",
    "1. `images`: A numpy array with the shape `(N,height,width)`, where \n",
    "    * `N` is the number of samples and could be anything,\n",
    "    * `height` is each individual image's height in pixels (i.e., number of rows in each image),\n",
    "    * and `width` is each individual image's width in pixels (i.e., number of columns in each image).\n",
    "      * The entries of `images` are either -1 or 1.\n",
    "2. `initial_pi`: A numpy array with the same shape as `images` (i.e. `(N,height,width)`). This variable is corresponding to the initial value of $\\pi$ in the above equations.\n",
    "3. `theta_X`: A scalar with a default value of `0.5*np.log(1/noise_flip_prob-1)`. This variable represents $\\theta_{ii}^{(2)}$ in the above update equation.\n",
    "4. `theta_pi`: A scalar with a default value of 2. This variable represents $\\theta_{ij}^{(1)}$ in the above update equation.\n",
    "5. `iterations`: A scalar with a default value of 100. This variable denotes the number of update iterations to perform.\n",
    "\n",
    "The `boltzman_meanfield` function returns the final $\\pi$ variable as a numpy array called `pi`, and should contain values that are between 0 and 1. "
   ]
  },
  {
   "cell_type": "code",
   "execution_count": 8,
   "id": "a7656391",
   "metadata": {},
   "outputs": [],
   "source": [
    "def boltzman_meanfield(images, initial_pi, theta_X=0.5*np.log(1/noise_flip_prob-1), theta_pi=2, iterations=100):\n",
    "    if len(images.shape)==2:\n",
    "        X = images.reshape(1,*images.shape)\n",
    "    else:\n",
    "        X = images[0]\n",
    "        \n",
    "    pi = initial_pi\n",
    "    \n",
    "    for iteration in range(iterations):\n",
    "        f1 = theta_X * images\n",
    "        \n",
    "        left = theta_pi * np.where(np.pad(pi, ((0,0), (0,0), (1,0)), mode='constant')[:, :, :-1]==0, np.pad(pi, ((0,0), (0,0), (1,0)), mode='constant')[:, :, :-1], 2 * np.pad(pi, ((0,0), (0,0), (1,0)), mode='constant')[:, :, :-1] - 1)\n",
    "        right = theta_pi * np.where(np.pad(pi, ((0,0), (0,0), (0,1)), mode='constant')[:, :, 1:]==0, np.pad(pi, ((0,0), (0,0), (0,1)), mode='constant')[:, :, 1:], 2 * np.pad(pi, ((0,0), (0,0), (0,1)), mode='constant')[:, :, 1:] - 1)\n",
    "        top = theta_pi * np.where(np.pad(pi, ((0,0), (1,0), (0,0)), mode='constant')[:, :-1, :]==0, np.pad(pi, ((0,0), (1,0), (0,0)), mode='constant')[:, :-1, :], 2 * np.pad(pi, ((0,0), (1,0), (0,0)), mode='constant')[:, :-1, :] - 1)\n",
    "        bottom = theta_pi * np.where(np.pad(pi, ((0,0), (0,1), (0,0)), mode='constant')[:, 1:, :]==0, np.pad(pi, ((0,0), (0,1), (0,0)), mode='constant')[:, 1:, :], 2 * np.pad(pi, ((0,0), (0,1), (0,0)), mode='constant')[:, 1:, :] - 1)\n",
    "        \n",
    "        f2 = left + right + top + bottom\n",
    "        f3 = f1 + f2\n",
    "        pi = sigmoid_2x(f3)\n",
    "    return pi.reshape(*images.shape)"
   ]
  },
  {
   "cell_type": "markdown",
   "id": "e1cb91b0",
   "metadata": {},
   "source": [
    "## Vizualise"
   ]
  },
  {
   "cell_type": "code",
   "execution_count": 9,
   "id": "c3ed776f",
   "metadata": {},
   "outputs": [
    {
     "data": {
      "image/png": "[encoded data removed]",
      "text/plain": [
       "<Figure size 720x504 with 2 Axes>"
      ]
     },
     "metadata": {
      "needs_background": "light"
     },
     "output_type": "display_data"
    }
   ],
   "source": [
    "def test_boltzman(x, seed = 12345, theta_X=0.5*np.log(1/noise_flip_prob-1), theta_pi=2, iterations=100):        \n",
    "    np_random = np.random.RandomState(seed=seed)\n",
    "    initial_pi = np_random.uniform(0,1, size=x.shape)\n",
    "    return boltzman_meanfield(x, initial_pi, theta_X=theta_X, theta_pi=theta_pi, iterations=iterations)\n",
    "\n",
    "sample_noised_image = X_noised[0]\n",
    "sample_boltzman_image = test_boltzman(X_noised)[0]\n",
    "\n",
    "fig = plt.figure(figsize=(10, 7))\n",
    "fig.add_subplot(1, 2, 1)\n",
    "plt.title(\"Noised\")\n",
    "plt.imshow(sample_noised_image, cmap='binary')\n",
    "fig.add_subplot(1, 2, 2)\n",
    "plt.title(\"Boltzman\")\n",
    "plt.imshow(sample_boltzman_image, cmap='binary')\n",
    "plt.show()"
   ]
  },
  {
   "cell_type": "markdown",
   "id": "6d8f21ad",
   "metadata": {},
   "source": [
    "# Tuning the Boltzman Machine's Hyper-Parameters\n",
    "\n",
    "With the `boltzman_meanfield` function implemented above, lets see the effect of changing hyper parameters `theta_X` and `theta_pi`\n",
    "\n",
    "For each value of `theta_pi`, I apply the denoising and compare the denoised images to the original ones. I adopt several statistical measures to compare original and denoised images and to finally decide which value of `theta_pi` is better. \n",
    "\n",
    "Let `P` be the total number of pixels that was fliped during the noise adding process, and `N` be the total number of pixels that was not fliped during the noise adding process. We can define:\n",
    "\n",
    "- True Positive (`TP`). Defined to be the total number of pixels that are flipped during the noise adding process, and we successfully detect them during the denoising process. \n",
    "- True Positive Rate (`TPR`). Other names: sensitivity, recall. Defined to be the ratio `TP / P`.\n",
    "- False Positive (`FP`). Defined to be the number of pixels that were detected as being noisy during the denosing process, but were not really noisy. \n",
    "- False Positive Rate (`FPR`). Other name: fall-out. Defined to be the ratio `FP/N`.\n",
    "- Positive Predictive Value (`PPV`). Other name: precision. Defined to be the ratio `TP / (TP + FP)`.\n",
    "- `F1` score. Defined to be the harmonic mean of precision (`PPV`) and recall (`TPR`), or equivalently `2 TP / (2 TP + FP + FN)`. "
   ]
  },
  {
   "cell_type": "code",
   "execution_count": 10,
   "id": "6958912c",
   "metadata": {},
   "outputs": [],
   "source": [
    "def get_tpr(preds, true_labels):\n",
    "    TP = (preds * (preds == true_labels)).sum()\n",
    "    P = true_labels.sum()\n",
    "    if P==0:\n",
    "        TPR = 1.\n",
    "    else:\n",
    "        TPR = TP / P\n",
    "    \n",
    "    return TPR\n",
    "\n",
    "def get_fpr(preds, true_labels):\n",
    "    FP = (preds * (preds != true_labels)).sum()\n",
    "    N = (1-true_labels).sum()\n",
    "    if N==0:\n",
    "        FPR=1\n",
    "    else:\n",
    "        FPR = FP / N\n",
    "    return FPR\n",
    "\n",
    "def get_ppv(preds, true_labels):\n",
    "    TP = (preds * (preds == true_labels)).sum()\n",
    "    FP = (preds * (preds != true_labels)).sum()\n",
    "    if (TP + FP) == 0:\n",
    "        PPV = 1\n",
    "    else:\n",
    "        PPV = TP / (TP + FP)\n",
    "    return PPV\n",
    "\n",
    "def get_f1(preds, true_labels):\n",
    "    TP = (preds * (preds == true_labels)).sum()\n",
    "    FP = (preds * (preds != true_labels)).sum()\n",
    "    FN = ((1-preds) * (preds != true_labels)).sum()\n",
    "    if (2 * TP + FP + FN) == 0:\n",
    "        F1 = 1\n",
    "    else:\n",
    "        F1 = (2 * TP) / (2 * TP + FP + FN)\n",
    "    return F1"
   ]
  },
  {
   "cell_type": "markdown",
   "id": "1ab1a64e",
   "metadata": {},
   "source": [
    "## Apply"
   ]
  },
  {
   "cell_type": "code",
   "execution_count": 11,
   "id": "217a5582",
   "metadata": {},
   "outputs": [],
   "source": [
    "all_theta = np.arange(0, 10, 0.2).tolist() + np.arange(10, 100, 5).tolist()\n",
    "\n",
    "tpr_list, fpr_list, ppv_list, f1_list = [], [], [], []\n",
    "\n",
    "for theta in all_theta:\n",
    "    meanfield_pi = boltzman_meanfield(X_noised, initial_pi, theta_X=0.5*np.log(1/noise_flip_prob-1), theta_pi=theta, iterations=100)\n",
    "    X_denoised = 2 * (meanfield_pi > 0.5) - 1\n",
    "\n",
    "    predicted_noise_pixels = (X_denoised != X_noised)\n",
    "    tpr = get_tpr(predicted_noise_pixels, flip_flags)\n",
    "    fpr = get_fpr(predicted_noise_pixels, flip_flags)\n",
    "    ppv = get_ppv(predicted_noise_pixels, flip_flags)\n",
    "    f1 = get_f1(predicted_noise_pixels, flip_flags)\n",
    "\n",
    "    tpr_list.append(tpr)\n",
    "    fpr_list.append(fpr)\n",
    "    ppv_list.append(ppv)\n",
    "    f1_list.append(f1)"
   ]
  },
  {
   "cell_type": "markdown",
   "id": "6133f364",
   "metadata": {},
   "source": [
    "## Vizualise"
   ]
  },
  {
   "cell_type": "code",
   "execution_count": 12,
   "id": "f09d5fc6",
   "metadata": {},
   "outputs": [
    {
     "data": {
      "image/png": "[encoded data removed]",
      "text/plain": [
       "<Figure size 1080x360 with 2 Axes>"
      ]
     },
     "metadata": {
      "needs_background": "light"
     },
     "output_type": "display_data"
    }
   ],
   "source": [
    "fig, axes = plt.subplots(nrows=1, ncols=2, figsize=(12,4), dpi=90)\n",
    "\n",
    "ax=axes[0]\n",
    "ax.plot(all_theta, tpr_list)\n",
    "ax.set_xlabel('Theta')\n",
    "ax.set_ylabel('True Positive Rate')\n",
    "ax.set_title('True Positive Rate Vs. Theta')\n",
    "ax.set_xscale('log')\n",
    "\n",
    "ax=axes[1]\n",
    "ax.plot(all_theta, fpr_list)\n",
    "ax.set_xlabel('Theta')\n",
    "ax.set_ylabel('False Positive Rate')\n",
    "ax.set_title('False Positive Rate Vs. Theta')\n",
    "ax.set_xscale('log')"
   ]
  },
  {
   "cell_type": "code",
   "execution_count": 13,
   "id": "9f2fe4b8",
   "metadata": {},
   "outputs": [
    {
     "data": {
      "image/png": "[encoded data removed]",
      "text/plain": [
       "<Figure size 1080x270 with 3 Axes>"
      ]
     },
     "metadata": {
      "needs_background": "light"
     },
     "output_type": "display_data"
    }
   ],
   "source": [
    "fig, axes = plt.subplots(nrows=1, ncols=3, figsize=(12,3), dpi=90)\n",
    "\n",
    "ax=axes[0]\n",
    "ax.plot(fpr_list, tpr_list)\n",
    "ax.set_xlabel('False Positive Rate')\n",
    "ax.set_ylabel('True Positive Rate')\n",
    "ax.set_title('ROC Curve')\n",
    "ax.set_xlim(-0.05, 1.05)\n",
    "ax.set_ylim(-0.05, 1.05)\n",
    "ax.plot(np.arange(-0.05, 1.05, 0.01), np.arange(-0.05, 1.05, 0.01), ls='--', c='black')\n",
    "\n",
    "ax=axes[1]\n",
    "ax.plot(all_theta, f1_list)\n",
    "ax.set_xlabel('Theta')\n",
    "ax.set_ylabel('F1-statistic')\n",
    "ax.set_title('F1-score Vs. Theta')\n",
    "ax.set_xscale('log')\n",
    "\n",
    "ax=axes[2]\n",
    "ax.plot(tpr_list, ppv_list)\n",
    "ax.set_xlabel('Recall')\n",
    "ax.set_ylabel('Precision')\n",
    "ax.set_title('Precision Vs. Recall')\n",
    "ax.set_xlim(-0.05, 1.05)\n",
    "ax.set_ylim(-0.05, 1.05)\n",
    "ax.plot(np.arange(-0.05, 1.05, 0.01), 1-np.arange(-0.05, 1.05, 0.01), ls='--', c='black')\n",
    "None"
   ]
  },
  {
   "cell_type": "code",
   "execution_count": 14,
   "id": "4a9dc169",
   "metadata": {},
   "outputs": [
    {
     "name": "stdout",
     "output_type": "stream",
     "text": [
      "Best theta w.r.t. the F-score is 0.8\n"
     ]
    }
   ],
   "source": [
    "best_theta = all_theta[np.argmax(f1_list)]\n",
    "print(f'Best theta w.r.t. the F-score is {best_theta}')"
   ]
  },
  {
   "cell_type": "markdown",
   "id": "1f3673a5",
   "metadata": {},
   "source": [
    "Now let's try the tuned hyper-parameters, and verify whether it visually improved the Boltzman machine."
   ]
  },
  {
   "cell_type": "code",
   "execution_count": 15,
   "id": "57f1c048",
   "metadata": {},
   "outputs": [
    {
     "data": {
      "image/png": "[encoded data removed]",
      "text/plain": [
       "<Figure size 720x504 with 2 Axes>"
      ]
     },
     "metadata": {
      "needs_background": "light"
     },
     "output_type": "display_data"
    }
   ],
   "source": [
    "def test_boltzman(x, seed = 12345, theta_X=0.5*np.log(1/noise_flip_prob-1), theta_pi=best_theta, iterations=100):        \n",
    "        np_random = np.random.RandomState(seed=seed)\n",
    "        initial_pi = np_random.uniform(0,1, size=x.shape)\n",
    "        return boltzman_meanfield(x, initial_pi, theta_X=theta_X, theta_pi=theta_pi, iterations=iterations) >  0.5\n",
    "\n",
    "sample_noised_image = X_noised[0]\n",
    "sample_boltzman_image = test_boltzman(X_noised)[0]\n",
    "\n",
    "fig = plt.figure(figsize=(10, 7))\n",
    "fig.add_subplot(1, 2, 1)\n",
    "plt.title(\"Noised\")\n",
    "plt.imshow(sample_noised_image, cmap='binary')\n",
    "fig.add_subplot(1, 2, 2)\n",
    "plt.title(\"Boltzman\")\n",
    "plt.imshow(sample_boltzman_image, cmap='binary')\n",
    "plt.show()"
   ]
  },
  {
   "cell_type": "code",
   "execution_count": null,
   "id": "5af114ed",
   "metadata": {},
   "outputs": [],
   "source": []
  }
 ],
 "metadata": {
  "kernelspec": {
   "display_name": "Python 3",
   "language": "python",
   "name": "python3"
  },
  "language_info": {
   "codemirror_mode": {
    "name": "ipython",
    "version": 3
   },
   "file_extension": ".py",
   "mimetype": "text/x-python",
   "name": "python",
   "nbconvert_exporter": "python",
   "pygments_lexer": "ipython3",
   "version": "3.7.9"
  }
 },
 "nbformat": 4,
 "nbformat_minor": 5
}
